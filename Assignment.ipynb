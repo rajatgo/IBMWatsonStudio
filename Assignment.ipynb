{
    "cells": [
        {
            "cell_type": "markdown",
            "metadata": {
                "collapsed": true
            },
            "source": "# My Jupyter Notebook on IBM Watson Studio"
        },
        {
            "cell_type": "markdown",
            "metadata": {},
            "source": "**Rajat Goyal**\n\nSenior Systems Analyst, NSE"
        },
        {
            "cell_type": "markdown",
            "metadata": {},
            "source": "*I am interested in data science because data is the new revolution. Using data science, I want to gather useful insights about stock price prediction*"
        },
        {
            "cell_type": "markdown",
            "metadata": {},
            "source": "### Below code will multiply two numbers"
        },
        {
            "cell_type": "code",
            "execution_count": 1,
            "metadata": {},
            "outputs": [
                {
                    "data": {
                        "text/plain": "35"
                    },
                    "execution_count": 1,
                    "metadata": {},
                    "output_type": "execute_result"
                }
            ],
            "source": "5 * 7"
        },
        {
            "attachments": {},
            "cell_type": "markdown",
            "metadata": {},
            "source": "---\n  * Keras\n  * TensorFlow\n  * PyTorch\n---\n  1. Matplotlib\n  2. Seaborn\n---\n[Google](https://www.google.co.in/)\n\n---\n> Deep learning requires very large data sets of labelled data to train a model.\n---\n```python\nprint(\"Hello World!\")\nprint(\"Welcome\")\n```\n"
        }
    ],
    "metadata": {
        "kernelspec": {
            "display_name": "Python 3.6",
            "language": "python",
            "name": "python3"
        },
        "language_info": {
            "codemirror_mode": {
                "name": "ipython",
                "version": 3
            },
            "file_extension": ".py",
            "mimetype": "text/x-python",
            "name": "python",
            "nbconvert_exporter": "python",
            "pygments_lexer": "ipython3",
            "version": "3.6.9"
        }
    },
    "nbformat": 4,
    "nbformat_minor": 1
}